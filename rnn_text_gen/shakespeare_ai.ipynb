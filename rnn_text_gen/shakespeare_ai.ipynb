{
  "cells": [
    {
      "cell_type": "markdown",
      "metadata": {
        "id": "view-in-github",
        "colab_type": "text"
      },
      "source": [
        "<a href=\"https://colab.research.google.com/github/MathBorgess/ml_classifier_studies/blob/main/rnn_text_gen/shakespeare_ai.ipynb\" target=\"_parent\"><img src=\"https://colab.research.google.com/assets/colab-badge.svg\" alt=\"Open In Colab\"/></a>"
      ]
    },
    {
      "cell_type": "code",
      "execution_count": 4,
      "metadata": {
        "id": "0rnyaqez8sLH"
      },
      "outputs": [],
      "source": [
        "#https://www.tensorflow.org/text/tutorials/text_generation?hl=pt-br\n",
        "\n",
        "import tensorflow as tf\n",
        "import os\n",
        "import numpy as np\n",
        "\n",
        "path_to_file = tf.keras.utils.get_file('shakespeare.txt', 'https://storage.googleapis.com/download.tensorflow.org/data/shakespeare.txt')"
      ]
    },
    {
      "cell_type": "code",
      "execution_count": 5,
      "metadata": {
        "id": "xawMzSN18sLO",
        "outputId": "c9f9e191-f15e-4d04-97d1-e2ebc219f15a",
        "colab": {
          "base_uri": "https://localhost:8080/",
          "height": 35
        }
      },
      "outputs": [
        {
          "output_type": "execute_result",
          "data": {
            "text/plain": [
              "'First Citizen:\\nBefore we proceed any further, hear me speak.\\n\\nAll:\\nSpeak, speak.\\n\\nFirst Citizen:\\nYou'"
            ],
            "application/vnd.google.colaboratory.intrinsic+json": {
              "type": "string"
            }
          },
          "metadata": {},
          "execution_count": 5
        }
      ],
      "source": [
        "text = open(path_to_file, 'rb').read().decode(encoding='utf-8')\n",
        "text[:100]"
      ]
    },
    {
      "cell_type": "code",
      "execution_count": 6,
      "metadata": {
        "id": "09AtVBn38sLP",
        "outputId": "4175d7e3-f547-44d7-be6e-4e05435265ad",
        "colab": {
          "base_uri": "https://localhost:8080/"
        }
      },
      "outputs": [
        {
          "output_type": "execute_result",
          "data": {
            "text/plain": [
              "<tf.Tensor: shape=(1,), dtype=int64, numpy=array([40])>"
            ]
          },
          "metadata": {},
          "execution_count": 6
        }
      ],
      "source": [
        "tokenize_text =  tf.keras.layers.StringLookup(mask_token=None, vocabulary=list(sorted(set(text))))\n",
        "decode_tokenize_text =  tf.keras.layers.StringLookup(mask_token=None, vocabulary=list(sorted(set(text))), invert=True)\n",
        "tokenize_text(['a'])"
      ]
    },
    {
      "cell_type": "code",
      "execution_count": 7,
      "metadata": {
        "id": "WE3vbski8sLQ"
      },
      "outputs": [],
      "source": [
        "def backward_text(arr):\n",
        "    return tf.strings.reduce_join(decode_tokenize_text(arr), axis=-1).numpy()"
      ]
    },
    {
      "cell_type": "code",
      "execution_count": 8,
      "metadata": {
        "id": "5ahf_D3q8sLQ"
      },
      "outputs": [],
      "source": [
        "all_tokens = tokenize_text(tf.strings.unicode_split(text, 'UTF-8'))\n",
        "\n",
        "tensor_set = tf.data.Dataset.from_tensor_slices(all_tokens)"
      ]
    },
    {
      "cell_type": "code",
      "execution_count": 9,
      "metadata": {
        "id": "chK5lNk28sLR"
      },
      "outputs": [],
      "source": [
        "sequence_length = 100\n",
        "epoch_exemple_length = len(text) // (sequence_length + 1)\n",
        "\n",
        "# O método batch permite converter facilmente esses caracteres individuais em sequências do tamanho desejado.\n",
        "\n",
        "# We're gonna predict the next character using the RNN, so, to predict the word Hello, if the input is Hell, the output will be ello\n",
        "dataset = tensor_set.batch(batch_size=sequence_length+1, drop_remainder=True).map(lambda sequence: [sequence[:-1], sequence[1:]])\n",
        "\n",
        "batch_size = 64\n",
        "\n",
        "# Buffer size to shuffle the dataset\n",
        "# (TF data is designed to work with possibly infinite sequences,\n",
        "# so it doesn't attempt to shuffle the entire sequence in memory. Instead,\n",
        "# it maintains a buffer in which it shuffles elements).\n",
        "buffer_size = 10000\n",
        "\n",
        "dataset = (\n",
        "    dataset\n",
        "    .shuffle(buffer_size)\n",
        "    .batch(batch_size, drop_remainder=True)\n",
        "    .prefetch(tf.data.AUTOTUNE))\n",
        "\n",
        "vocab_size = len(tokenize_text.get_vocabulary())\n",
        "\n",
        "class MyModel(tf.keras.Model):\n",
        "  def __init__(self, vocab_size, embedding_dim, rnn_units):\n",
        "    super().__init__(self)\n",
        "    self.embedding = tf.keras.layers.Embedding(vocab_size, embedding_dim)\n",
        "    self.gru = tf.keras.layers.GRU(rnn_units,\n",
        "                                   return_sequences=True,\n",
        "                                   return_state=True)\n",
        "    self.dense = tf.keras.layers.Dense(vocab_size)\n",
        "\n",
        "  def call(self, inputs, states=None, return_state=False, training=False):\n",
        "    x = inputs\n",
        "    x = self.embedding(x, training=training)\n",
        "    if states is None:\n",
        "      states = self.gru.get_initial_state(x)\n",
        "    x, states = self.gru(x, initial_state=states, training=training)\n",
        "    x = self.dense(x, training=training)\n",
        "\n",
        "    if return_state:\n",
        "      return x, states\n",
        "    else:\n",
        "      return x\n",
        "\n",
        "model = MyModel(\n",
        "    # Be sure the vocabulary size matches the `StringLookup` layers.\n",
        "    vocab_size,\n",
        "    embedding_dim=256,\n",
        "    rnn_units=1024)\n",
        "\n",
        "'''\n",
        "But for simplicity, from_logits=True means the input to crossEntropy layer is normal tensor/logits,\n",
        "while if from_logits=False, means the input is a probability and usually you should have some softmax activation in your last layer.\n",
        "'''\n",
        "loss = tf.losses.SparseCategoricalCrossentropy(from_logits=True)\n",
        "\n",
        "model.compile(optimizer='adam', loss=loss)"
      ]
    },
    {
      "cell_type": "code",
      "execution_count": 42,
      "metadata": {
        "id": "vVMhbi9z8sLS",
        "outputId": "316b9804-51ef-4056-8a32-f85c4c3fda9f",
        "colab": {
          "base_uri": "https://localhost:8080/"
        }
      },
      "outputs": [
        {
          "output_type": "stream",
          "name": "stdout",
          "text": [
            "Epoch 1/40\n",
            "172/172 [==============================] - 12s 53ms/step - loss: 0.6894\n",
            "Epoch 2/40\n",
            "172/172 [==============================] - 11s 54ms/step - loss: 0.6480\n",
            "Epoch 3/40\n",
            "172/172 [==============================] - 11s 55ms/step - loss: 0.6136\n",
            "Epoch 4/40\n",
            "172/172 [==============================] - 12s 56ms/step - loss: 0.5822\n",
            "Epoch 5/40\n",
            "172/172 [==============================] - 12s 56ms/step - loss: 0.5566\n",
            "Epoch 6/40\n",
            "172/172 [==============================] - 12s 56ms/step - loss: 0.5351\n",
            "Epoch 7/40\n",
            "172/172 [==============================] - 12s 56ms/step - loss: 0.5160\n",
            "Epoch 8/40\n",
            "172/172 [==============================] - 12s 57ms/step - loss: 0.5032\n",
            "Epoch 9/40\n",
            "172/172 [==============================] - 11s 55ms/step - loss: 0.4877\n",
            "Epoch 10/40\n",
            "172/172 [==============================] - 11s 56ms/step - loss: 0.4805\n",
            "Epoch 11/40\n",
            "172/172 [==============================] - 12s 57ms/step - loss: 0.4692\n",
            "Epoch 12/40\n",
            "172/172 [==============================] - 12s 56ms/step - loss: 0.4611\n",
            "Epoch 13/40\n",
            "172/172 [==============================] - 12s 55ms/step - loss: 0.4568\n",
            "Epoch 14/40\n",
            "172/172 [==============================] - 12s 55ms/step - loss: 0.4479\n",
            "Epoch 15/40\n",
            "172/172 [==============================] - 12s 55ms/step - loss: 0.4406\n",
            "Epoch 16/40\n",
            "172/172 [==============================] - 12s 55ms/step - loss: 0.4366\n",
            "Epoch 17/40\n",
            "172/172 [==============================] - 12s 55ms/step - loss: 0.4363\n",
            "Epoch 18/40\n",
            "172/172 [==============================] - 12s 55ms/step - loss: 0.4337\n",
            "Epoch 19/40\n",
            "172/172 [==============================] - 12s 55ms/step - loss: 0.4296\n",
            "Epoch 20/40\n",
            "172/172 [==============================] - 12s 55ms/step - loss: 0.4262\n",
            "Epoch 21/40\n",
            "172/172 [==============================] - 12s 55ms/step - loss: 0.4216\n",
            "Epoch 22/40\n",
            "172/172 [==============================] - 12s 55ms/step - loss: 0.4263\n",
            "Epoch 23/40\n",
            "172/172 [==============================] - 12s 55ms/step - loss: 0.4245\n",
            "Epoch 24/40\n",
            "172/172 [==============================] - 13s 55ms/step - loss: 0.4244\n",
            "Epoch 25/40\n",
            "172/172 [==============================] - 12s 55ms/step - loss: 0.4268\n",
            "Epoch 26/40\n",
            "172/172 [==============================] - 12s 56ms/step - loss: 0.4257\n",
            "Epoch 27/40\n",
            "172/172 [==============================] - 12s 56ms/step - loss: 0.4280\n",
            "Epoch 28/40\n",
            "172/172 [==============================] - 11s 56ms/step - loss: 0.4265\n",
            "Epoch 29/40\n",
            "172/172 [==============================] - 11s 55ms/step - loss: 0.4227\n",
            "Epoch 30/40\n",
            "172/172 [==============================] - 12s 56ms/step - loss: 0.4233\n",
            "Epoch 31/40\n",
            "172/172 [==============================] - 12s 57ms/step - loss: 0.4295\n",
            "Epoch 32/40\n",
            "172/172 [==============================] - 12s 56ms/step - loss: 0.4284\n",
            "Epoch 33/40\n",
            "172/172 [==============================] - 11s 55ms/step - loss: 0.4299\n",
            "Epoch 34/40\n",
            "172/172 [==============================] - 12s 56ms/step - loss: 0.4307\n",
            "Epoch 35/40\n",
            "172/172 [==============================] - 12s 56ms/step - loss: 0.4349\n",
            "Epoch 36/40\n",
            "172/172 [==============================] - 12s 56ms/step - loss: 0.4358\n",
            "Epoch 37/40\n",
            "172/172 [==============================] - 12s 57ms/step - loss: 0.4356\n",
            "Epoch 38/40\n",
            "172/172 [==============================] - 12s 57ms/step - loss: 0.4375\n",
            "Epoch 39/40\n",
            "172/172 [==============================] - 12s 56ms/step - loss: 0.4394\n",
            "Epoch 40/40\n",
            "172/172 [==============================] - 12s 54ms/step - loss: 0.4375\n"
          ]
        },
        {
          "output_type": "execute_result",
          "data": {
            "text/plain": [
              "<keras.callbacks.History at 0x78bef9eeba90>"
            ]
          },
          "metadata": {},
          "execution_count": 42
        }
      ],
      "source": [
        "# # Directory where the checkpoints will be saved\n",
        "# checkpoint_dir = './training_checkpoints'\n",
        "# # Name of the checkpoint files\n",
        "# checkpoint_prefix = os.path.join(checkpoint_dir, \"ckpt_{epoch}\")\n",
        "\n",
        "\n",
        "# checkpoint_callback = tf.keras.callbacks.ModelCheckpoint(\n",
        "#     filepath=checkpoint_prefix,\n",
        "#     save_weights_only=True)\n",
        "\n",
        "model.fit(dataset, epochs=40)"
      ]
    },
    {
      "cell_type": "code",
      "source": [
        "class OneStep(tf.keras.Model):\n",
        "  def __init__(self, model, chars_from_ids, ids_from_chars, temperature=1.0):\n",
        "    super().__init__()\n",
        "    self.temperature = temperature\n",
        "    self.model = model\n",
        "    self.chars_from_ids = chars_from_ids\n",
        "    self.ids_from_chars = ids_from_chars\n",
        "\n",
        "  @tf.function\n",
        "  def generate_one_step(self, inputs, states=None):\n",
        "    # Convert strings to token IDs.\n",
        "    input_chars = tf.strings.unicode_split(inputs, 'UTF-8')\n",
        "    input_ids = self.ids_from_chars(input_chars).to_tensor()\n",
        "\n",
        "    # Run the model.\n",
        "    # predicted_logits.shape is [batch, char, next_char_logits]\n",
        "    predicted_logits, states = self.model(inputs=input_ids, states=states,\n",
        "                                          return_state=True)\n",
        "    # Only use the last prediction.\n",
        "    predicted_logits = predicted_logits[:, -1, :]\n",
        "    predicted_logits = predicted_logits/self.temperature\n",
        "\n",
        "    # Sample the output logits to generate token IDs.\n",
        "    predicted_ids = tf.random.categorical(predicted_logits, num_samples=1)\n",
        "    predicted_ids = tf.squeeze(predicted_ids, axis=-1)\n",
        "\n",
        "    # Convert from token ids to characters\n",
        "    predicted_chars = self.chars_from_ids(predicted_ids)\n",
        "\n",
        "    # Return the characters and model state.\n",
        "    return predicted_chars, states"
      ],
      "metadata": {
        "id": "apO5eHjwI1To"
      },
      "execution_count": 60,
      "outputs": []
    },
    {
      "cell_type": "code",
      "source": [
        "one_step_model = OneStep(model, chars_from_ids=decode_tokenize_text, ids_from_chars=tokenize_text, temperature=0.1)"
      ],
      "metadata": {
        "id": "gChZLpUobAlv"
      },
      "execution_count": 65,
      "outputs": []
    },
    {
      "cell_type": "code",
      "source": [
        "state = None\n",
        "phrase = tf.constant(['My dear friend'])\n",
        "result = [phrase]\n",
        "for i in range(100):\n",
        "  phrase, state = one_step_model.generate_one_step(phrase, states=state)\n",
        "  result.append(phrase)\n",
        "tf.strings.join(result).numpy()"
      ],
      "metadata": {
        "colab": {
          "base_uri": "https://localhost:8080/"
        },
        "id": "kisDnPkac6xP",
        "outputId": "f1fe2ade-7c87-455d-9b87-8b0f1d427ade"
      },
      "execution_count": 66,
      "outputs": [
        {
          "output_type": "execute_result",
          "data": {
            "text/plain": [
              "array([b'My dear friend, ay, as the custom by the fairest fore.\\n\\nHENRY BOLINGBROKE:\\nGood aunt, I remember with her, at an\\na'],\n",
              "      dtype=object)"
            ]
          },
          "metadata": {},
          "execution_count": 66
        }
      ]
    }
  ],
  "metadata": {
    "kernelspec": {
      "display_name": "Python 3",
      "name": "python3"
    },
    "language_info": {
      "codemirror_mode": {
        "name": "ipython",
        "version": 3
      },
      "file_extension": ".py",
      "mimetype": "text/x-python",
      "name": "python",
      "nbconvert_exporter": "python",
      "pygments_lexer": "ipython3",
      "version": "3.11.3"
    },
    "orig_nbformat": 4,
    "colab": {
      "provenance": [],
      "gpuType": "T4",
      "cell_execution_strategy": "setup",
      "include_colab_link": true
    },
    "accelerator": "GPU"
  },
  "nbformat": 4,
  "nbformat_minor": 0
}