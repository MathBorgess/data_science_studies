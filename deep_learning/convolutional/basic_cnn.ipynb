{
  "cells": [
    {
      "cell_type": "markdown",
      "metadata": {
        "id": "view-in-github",
        "colab_type": "text"
      },
      "source": [
        "<a href=\"https://colab.research.google.com/github/MathBorgess/data_science_studies/blob/main/deep_learning/convolutional/basic_cnn.ipynb\" target=\"_parent\"><img src=\"https://colab.research.google.com/assets/colab-badge.svg\" alt=\"Open In Colab\"/></a>"
      ]
    },
    {
      "cell_type": "code",
      "execution_count": 10,
      "metadata": {
        "id": "wQ6JydUTiJ2B",
        "outputId": "ebddd2c3-249d-42e5-8dd3-3c69077e82b8",
        "colab": {
          "base_uri": "https://localhost:8080/"
        }
      },
      "outputs": [
        {
          "output_type": "stream",
          "name": "stdout",
          "text": [
            "Downloading data from https://www.cs.toronto.edu/~kriz/cifar-10-python.tar.gz\n",
            "170498071/170498071 [==============================] - 13s 0us/step\n"
          ]
        }
      ],
      "source": [
        "import tensorflow as tf\n",
        "(train_set, train_labels), (test_set, test_labels) = tf.keras.datasets.cifar10.load_data()\n",
        "#pixels goes from 255 to 0, so lets normalize it\n",
        "\n",
        "train_set, test_set = train_set / 255.0, test_set / 255.0"
      ]
    },
    {
      "cell_type": "code",
      "execution_count": 11,
      "metadata": {
        "id": "IBWq2PJsiJ2F",
        "outputId": "74ff65ed-09ac-4935-d18b-4295a292d708",
        "colab": {
          "base_uri": "https://localhost:8080/"
        }
      },
      "outputs": [
        {
          "output_type": "execute_result",
          "data": {
            "text/plain": [
              "[array([0, 1, 2, 3, 4, 5, 6, 7, 8, 9], dtype=uint8), (50000, 32, 32, 3)]"
            ]
          },
          "metadata": {},
          "execution_count": 11
        }
      ],
      "source": [
        "import numpy as np\n",
        "\n",
        "[np.unique(train_labels), train_set.shape]"
      ]
    },
    {
      "cell_type": "code",
      "execution_count": 12,
      "metadata": {
        "id": "dhfyASRriJ2H"
      },
      "outputs": [],
      "source": [
        "class ImageClassifier(tf.keras.Model):\n",
        "    def __init__(self, input_shape, class_num, dense_units):\n",
        "        super(ImageClassifier, self).__init__()\n",
        "        #the filter input is the depth of the spatial convolutional layer\n",
        "        self.conv_one = tf.keras.layers.Conv2D(filters=32, kernel_size=(3,3), padding='same',activation='relu', input_shape=input_shape )\n",
        "        self.pooler_one = tf.keras.layers.MaxPool2D(pool_size=(2,2))\n",
        "        self.conv_two = tf.keras.layers.Conv2D(filters=64, kernel_size=(3,3), activation='relu' )\n",
        "        self.pooler_two = tf.keras.layers.MaxPool2D(pool_size=(2,2))\n",
        "        self.conv_two = tf.keras.layers.Conv2D(filters=64, kernel_size=(3,3), activation='relu' )\n",
        "        self.flatten = tf.keras.layers.Flatten()\n",
        "        self.dense = tf.keras.layers.Dense(activation='relu', units=dense_units)\n",
        "        self.outputer = tf.keras.layers.Dense(units=class_num)\n",
        "\n",
        "    def call(self, inputs):\n",
        "        feature_map = self.conv_one(inputs)\n",
        "        reduced_feature_map = self.pooler_one(feature_map)\n",
        "        feature_map = self.conv_two(reduced_feature_map)\n",
        "        reduced_feature_map = self.pooler_two(feature_map)\n",
        "        y = self.dense(self.flatten(reduced_feature_map))\n",
        "        return self.outputer(y)"
      ]
    },
    {
      "cell_type": "code",
      "execution_count": 17,
      "metadata": {
        "id": "iVRANVOXiJ2H"
      },
      "outputs": [],
      "source": [
        "model = ImageClassifier(input_shape=train_set[1:], class_num=len(np.unique(train_labels)), dense_units=64)\n",
        "model.compile(optimizer='adam', loss=tf.keras.losses.SparseCategoricalCrossentropy(from_logits=True))"
      ]
    },
    {
      "cell_type": "code",
      "execution_count": 14,
      "metadata": {
        "id": "3QKea5ZgiJ2H",
        "outputId": "8d70d1cc-1ab7-4428-a623-bbdfa9c28a1b",
        "colab": {
          "base_uri": "https://localhost:8080/"
        }
      },
      "outputs": [
        {
          "output_type": "execute_result",
          "data": {
            "text/plain": [
              "<tf.Tensor: shape=(1, 10), dtype=float32, numpy=\n",
              "array([[ 0.0531631 ,  0.27405676, -0.05456904,  0.05783781, -0.03702664,\n",
              "         0.13045484, -0.07974085, -0.05092875,  0.06262868,  0.17407289]],\n",
              "      dtype=float32)>"
            ]
          },
          "metadata": {},
          "execution_count": 14
        }
      ],
      "source": [
        "model(tf.constant([train_set[0]]))"
      ]
    },
    {
      "cell_type": "code",
      "execution_count": 18,
      "metadata": {
        "id": "FfWW6ehQiJ2I",
        "outputId": "581d46c3-ecf4-46d8-973c-8252164ab0fa",
        "colab": {
          "base_uri": "https://localhost:8080/"
        }
      },
      "outputs": [
        {
          "output_type": "stream",
          "name": "stdout",
          "text": [
            "Epoch 1/10\n",
            "1563/1563 [==============================] - 9s 5ms/step - loss: 1.4564 - val_loss: 1.1755\n",
            "Epoch 2/10\n",
            "1563/1563 [==============================] - 7s 4ms/step - loss: 1.0779 - val_loss: 0.9998\n",
            "Epoch 3/10\n",
            "1563/1563 [==============================] - 7s 5ms/step - loss: 0.9461 - val_loss: 0.9852\n",
            "Epoch 4/10\n",
            "1563/1563 [==============================] - 7s 5ms/step - loss: 0.8615 - val_loss: 0.9339\n",
            "Epoch 5/10\n",
            "1563/1563 [==============================] - 7s 5ms/step - loss: 0.7981 - val_loss: 0.9393\n",
            "Epoch 6/10\n",
            "1563/1563 [==============================] - 7s 4ms/step - loss: 0.7467 - val_loss: 0.8954\n",
            "Epoch 7/10\n",
            "1563/1563 [==============================] - 8s 5ms/step - loss: 0.6973 - val_loss: 0.8721\n",
            "Epoch 8/10\n",
            "1563/1563 [==============================] - 7s 5ms/step - loss: 0.6550 - val_loss: 0.9283\n",
            "Epoch 9/10\n",
            "1563/1563 [==============================] - 7s 5ms/step - loss: 0.6183 - val_loss: 0.8933\n",
            "Epoch 10/10\n",
            "1563/1563 [==============================] - 7s 5ms/step - loss: 0.5843 - val_loss: 0.9182\n"
          ]
        },
        {
          "output_type": "execute_result",
          "data": {
            "text/plain": [
              "<keras.callbacks.History at 0x7d1aa17fe080>"
            ]
          },
          "metadata": {},
          "execution_count": 18
        }
      ],
      "source": [
        "model.fit(train_set,train_labels,\n",
        "          epochs=10,\n",
        "          validation_data=(test_set, test_labels))"
      ]
    }
  ],
  "metadata": {
    "kernelspec": {
      "display_name": "Python 3",
      "name": "python3"
    },
    "language_info": {
      "codemirror_mode": {
        "name": "ipython",
        "version": 3
      },
      "file_extension": ".py",
      "mimetype": "text/x-python",
      "name": "python",
      "nbconvert_exporter": "python",
      "pygments_lexer": "ipython3",
      "version": "3.11.3"
    },
    "orig_nbformat": 4,
    "colab": {
      "provenance": [],
      "gpuType": "T4",
      "include_colab_link": true
    },
    "accelerator": "GPU"
  },
  "nbformat": 4,
  "nbformat_minor": 0
}