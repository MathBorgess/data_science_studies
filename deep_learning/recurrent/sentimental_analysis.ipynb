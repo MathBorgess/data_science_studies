{
  "cells": [
    {
      "cell_type": "markdown",
      "metadata": {
        "id": "view-in-github",
        "colab_type": "text"
      },
      "source": [
        "<a href=\"https://colab.research.google.com/github/MathBorgess/data_science_studies/blob/main/deep_learning/recurrent/sentimental_analysis.ipynb\" target=\"_parent\"><img src=\"https://colab.research.google.com/assets/colab-badge.svg\" alt=\"Open In Colab\"/></a>"
      ]
    },
    {
      "cell_type": "code",
      "execution_count": 1,
      "metadata": {
        "id": "kYFpeNqjIE9g",
        "outputId": "6439df30-9102-4896-f48c-b0b468d06750",
        "colab": {
          "base_uri": "https://localhost:8080/"
        }
      },
      "outputs": [
        {
          "output_type": "stream",
          "name": "stdout",
          "text": [
            "Downloading data from https://storage.googleapis.com/tensorflow/tf-keras-datasets/imdb.npz\n",
            "17464789/17464789 [==============================] - 2s 0us/step\n"
          ]
        }
      ],
      "source": [
        "import tensorflow as tf\n",
        "\n",
        "imdb = tf.keras.datasets.imdb\n",
        "\n",
        "train_data, test_data = imdb.load_data()"
      ]
    },
    {
      "cell_type": "code",
      "execution_count": 2,
      "metadata": {
        "id": "id8VBj7sIE9j",
        "outputId": "b849327f-5644-4e1d-c65d-3ed72e35bb18",
        "colab": {
          "base_uri": "https://localhost:8080/"
        }
      },
      "outputs": [
        {
          "output_type": "stream",
          "name": "stdout",
          "text": [
            "Downloading data from https://storage.googleapis.com/tensorflow/tf-keras-datasets/imdb_word_index.json\n",
            "1641221/1641221 [==============================] - 1s 0us/step\n"
          ]
        }
      ],
      "source": [
        "import numpy as np\n",
        "word_index = {k: (v+3) for k,v in imdb.get_word_index().items()}\n",
        "word_index[\"<PAD>\"] = 0\n",
        "word_index[\"<START>\"] = 1\n",
        "word_index[\"<UNK>\"] = 2  # unknown\n",
        "word_index[\"<UNUSED>\"] = 3\n",
        "\n",
        "reverse_word_index = dict([(value, key) for key, value in word_index.items()])\n",
        "\n",
        "train_dataset_texts = []\n",
        "train_dataset_labels = []\n",
        "for index in range(len(train_data[0])):\n",
        "    train_dataset_texts.append(' '.join([ reverse_word_index.get(i, '?') for i in train_data[0][index]]))\n",
        "    train_dataset_labels.append(train_data[1][index])\n",
        "\n",
        "test_dataset_texts = []\n",
        "test_dataset_labels = []\n",
        "for index in range(len(test_data[0])):\n",
        "    test_dataset_texts.append(' '.join([ reverse_word_index.get(i, '?') for i in test_data[0][index]]))\n",
        "    test_dataset_labels.append(test_data[1][index])\n",
        "\n",
        "\n",
        "train_dataset = tf.data.Dataset.from_tensor_slices((train_dataset_texts, train_dataset_labels))\n",
        "test_dataset = tf.data.Dataset.from_tensor_slices((test_dataset_texts, test_dataset_labels))"
      ]
    },
    {
      "cell_type": "code",
      "execution_count": 3,
      "metadata": {
        "id": "hINVYcJuIE9k"
      },
      "outputs": [],
      "source": [
        "BUFFER_SIZE = 10000\n",
        "BATCH_SIZE = 64\n",
        "\n",
        "train_dataset = train_dataset.shuffle(BUFFER_SIZE).batch(BATCH_SIZE).prefetch(tf.data.AUTOTUNE)\n",
        "test_dataset = test_dataset.batch(BATCH_SIZE).prefetch(tf.data.AUTOTUNE)"
      ]
    },
    {
      "cell_type": "code",
      "execution_count": 4,
      "metadata": {
        "id": "g4Yg5oYxIE9k"
      },
      "outputs": [],
      "source": [
        "vocab_size = 10000\n",
        "\n",
        "encoder = tf.keras.layers.TextVectorization(\n",
        "    max_tokens=vocab_size)\n",
        "encoder.adapt(train_dataset.map(lambda text, label: text))"
      ]
    },
    {
      "cell_type": "code",
      "execution_count": 26,
      "metadata": {
        "id": "WpGAl_Y0IE9l"
      },
      "outputs": [],
      "source": [
        "class SentimentalClassifier(tf.keras.Model):\n",
        "    def __init__(self, encoder, dense_units):\n",
        "        super(SentimentalClassifier, self).__init__()\n",
        "        self.encoder = encoder\n",
        "        self.embedding = tf.keras.layers.Embedding(input_dim=len(encoder.get_vocabulary()),\n",
        "                                                    output_dim=dense_units,\n",
        "                                                    mask_zero=True)\n",
        "        # It performs average pooling across the temporal dimension of the input data,\n",
        "        # reducing the spatial dimensionality of the data while preserving important features.\n",
        "        # self.averager = tf.keras.layers.GlobalAveragePooling1D()\n",
        "        self.gru_one = tf.keras.layers.Bidirectional(tf.keras.layers.GRU(dense_units, return_state=True, return_sequences=True))\n",
        "        self.gru_two = tf.keras.layers.Bidirectional(tf.keras.layers.GRU(dense_units, return_state=True, return_sequences=True))\n",
        "        self.dense = tf.keras.layers.Dense(dense_units, activation='relu')\n",
        "        self.dropout = tf.keras.layers.Dropout(0.5)\n",
        "        self.outputer = tf.keras.layers.Dense(1, activation='sigmoid')\n",
        "\n",
        "    def call(self, inputs, return_state=False, state=None):\n",
        "        vector = self.encoder(inputs)\n",
        "        vector = self.embedding(vector)\n",
        "        y_ = self.gru_one(vector, initial_state=state)\n",
        "        y, forward_state, backward_state = self.gru_two(y_)\n",
        "        y = self.dense(y)\n",
        "        y = self.dropout(y)\n",
        "        output = self.outputer(y)\n",
        "        #the second tf.concat param is the axis of concat, 0 will only append, 1 will append line by line and so\n",
        "        if return_state:\n",
        "          return tf.squeeze(output, axis=-1), tf.concat([forward_state, backward_state], 1)\n",
        "        else:\n",
        "          return tf.squeeze(output, axis=-1)"
      ]
    },
    {
      "cell_type": "code",
      "execution_count": 27,
      "metadata": {
        "id": "hNcu0PWPIE9m",
        "outputId": "e48e8f9c-751a-4b78-e43a-5a789753161b",
        "colab": {
          "base_uri": "https://localhost:8080/"
        }
      },
      "outputs": [
        {
          "output_type": "execute_result",
          "data": {
            "text/plain": [
              "<tf.Tensor: shape=(1, 19), dtype=float32, numpy=\n",
              "array([[0.50442255, 0.5032232 , 0.5039908 , 0.5030106 , 0.503138  ,\n",
              "        0.5011163 , 0.50001544, 0.5008611 , 0.50014925, 0.49825415,\n",
              "        0.49870926, 0.49964073, 0.49995136, 0.49962252, 0.4984128 ,\n",
              "        0.4984139 , 0.5000689 , 0.5019075 , 0.5013822 ]], dtype=float32)>"
            ]
          },
          "metadata": {},
          "execution_count": 27
        }
      ],
      "source": [
        "model = SentimentalClassifier(encoder=encoder, dense_units=64)\n",
        "model.compile(optimizer='adam', loss=tf.keras.losses.BinaryCrossentropy(from_logits=True))\n",
        "\n",
        "sample_text = ('The movie was cool. The animation and the graphics '\n",
        "               'were out of this world. I would recommend this movie.')\n",
        "model(np.array([sample_text]))"
      ]
    },
    {
      "cell_type": "code",
      "execution_count": 28,
      "metadata": {
        "id": "D6Usz2DrIE9n",
        "outputId": "1f374a2b-07cb-44c4-c328-df9db056bfc4",
        "colab": {
          "base_uri": "https://localhost:8080/"
        }
      },
      "outputs": [
        {
          "output_type": "stream",
          "name": "stdout",
          "text": [
            "Epoch 1/5\n",
            "391/391 [==============================] - 125s 276ms/step - loss: 0.6856 - val_loss: 0.6752\n",
            "Epoch 2/5\n",
            "391/391 [==============================] - 78s 200ms/step - loss: 0.6837 - val_loss: 0.6824\n",
            "Epoch 3/5\n",
            "391/391 [==============================] - 66s 169ms/step - loss: 0.6685 - val_loss: 0.6681\n",
            "Epoch 4/5\n",
            "391/391 [==============================] - 63s 161ms/step - loss: 0.6600 - val_loss: 0.6677\n",
            "Epoch 5/5\n",
            "391/391 [==============================] - 57s 145ms/step - loss: 0.6576 - val_loss: 0.6640\n"
          ]
        },
        {
          "output_type": "execute_result",
          "data": {
            "text/plain": [
              "<keras.callbacks.History at 0x7ea5c3f3e710>"
            ]
          },
          "metadata": {},
          "execution_count": 28
        }
      ],
      "source": [
        "model.fit(train_dataset, epochs=5,\n",
        "            validation_data=test_dataset,\n",
        "            validation_steps=30)"
      ]
    },
    {
      "cell_type": "code",
      "execution_count": 29,
      "metadata": {
        "id": "z_XHf087IE9n",
        "outputId": "328dc8cd-b920-4b90-979d-0231ce7c0720",
        "colab": {
          "base_uri": "https://localhost:8080/"
        }
      },
      "outputs": [
        {
          "output_type": "stream",
          "name": "stdout",
          "text": [
            "391/391 [==============================] - 20s 52ms/step - loss: 0.6608\n"
          ]
        },
        {
          "output_type": "execute_result",
          "data": {
            "text/plain": [
              "0.6608366966247559"
            ]
          },
          "metadata": {},
          "execution_count": 29
        }
      ],
      "source": [
        "model.evaluate(test_dataset)"
      ]
    }
  ],
  "metadata": {
    "kernelspec": {
      "display_name": "Python 3",
      "name": "python3"
    },
    "language_info": {
      "codemirror_mode": {
        "name": "ipython",
        "version": 3
      },
      "file_extension": ".py",
      "mimetype": "text/x-python",
      "name": "python",
      "nbconvert_exporter": "python",
      "pygments_lexer": "ipython3",
      "version": "3.11.3"
    },
    "orig_nbformat": 4,
    "colab": {
      "provenance": [],
      "gpuType": "T4",
      "include_colab_link": true
    },
    "accelerator": "GPU"
  },
  "nbformat": 4,
  "nbformat_minor": 0
}