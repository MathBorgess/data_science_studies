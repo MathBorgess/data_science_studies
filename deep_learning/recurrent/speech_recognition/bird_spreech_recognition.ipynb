{
 "cells": [
  {
   "cell_type": "code",
   "execution_count": 1,
   "metadata": {},
   "outputs": [],
   "source": [
    "import tensorflow as tf\n",
    "import tensorflow_io as tfio\n",
    "import matplotlib as plt\n",
    "import os\n",
    "\n",
    "capuchin_path = os.path.join('data', 'Parsed_Capuchinbird_Clips')\n",
    "not_capuchin_path = os.path.join('data', 'Parsed_Not_Capuchinbird_Clips')"
   ]
  },
  {
   "cell_type": "code",
   "execution_count": null,
   "metadata": {},
   "outputs": [],
   "source": [
    "def load_16k_mono_audio(filename):\n",
    "    file_contents = tf.io.read_file(filename)\n",
    "    wav, sample = tf.audio.decode_wav(file_contents, desired_channels=1)\n",
    "    wav = tf.squeeze(wav, axis=-1)\n",
    "    sample = tf.cast(sample, tf.int64)\n",
    "    return tfio.audio.resample(wav, rate_in=sample, rate_out=16000)"
   ]
  }
 ],
 "metadata": {
  "kernelspec": {
   "display_name": "Python 3",
   "language": "python",
   "name": "python3"
  },
  "language_info": {
   "codemirror_mode": {
    "name": "ipython",
    "version": 3
   },
   "file_extension": ".py",
   "mimetype": "text/x-python",
   "name": "python",
   "nbconvert_exporter": "python",
   "pygments_lexer": "ipython3",
   "version": "3.11.3"
  },
  "orig_nbformat": 4
 },
 "nbformat": 4,
 "nbformat_minor": 2
}
