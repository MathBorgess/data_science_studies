{
  "cells": [
    {
      "cell_type": "markdown",
      "metadata": {
        "id": "view-in-github",
        "colab_type": "text"
      },
      "source": [
        "<a href=\"https://colab.research.google.com/github/MathBorgess/data_science_studies/blob/main/deep_learning/recurrent/speech_recognition/bird_spreech_recognition.ipynb\" target=\"_parent\"><img src=\"https://colab.research.google.com/assets/colab-badge.svg\" alt=\"Open In Colab\"/></a>"
      ]
    },
    {
      "cell_type": "code",
      "source": [
        "from google.colab import files\n",
        "files.upload()"
      ],
      "metadata": {
        "id": "tm8kVXXvlJdD"
      },
      "execution_count": null,
      "outputs": []
    },
    {
      "cell_type": "code",
      "source": [
        "!pip install -q kaggle\n",
        "!mkdir -p ~/.kaggle\n",
        "!cp kaggle.json ~/.kaggle/\n",
        "!chmod 600 ~/.kaggle/kaggle.json\n",
        "\n",
        "!kaggle datasets download -d kenjee/z-by-hp-unlocked-challenge-3-signal-processing"
      ],
      "metadata": {
        "id": "8FBKkaF0lUb_",
        "outputId": "23ee33e2-ba7a-4322-d2f4-3b916f2b0c03",
        "colab": {
          "base_uri": "https://localhost:8080/"
        }
      },
      "execution_count": 12,
      "outputs": [
        {
          "output_type": "stream",
          "name": "stdout",
          "text": [
            "Downloading z-by-hp-unlocked-challenge-3-signal-processing.zip to /content\n",
            " 99% 595M/604M [00:08<00:00, 58.6MB/s]\n",
            "100% 604M/604M [00:08<00:00, 75.6MB/s]\n"
          ]
        }
      ]
    },
    {
      "cell_type": "code",
      "source": [
        "import zipfile\n",
        "with zipfile.ZipFile(\"z-by-hp-unlocked-challenge-3-signal-processing.zip\",\"r\") as zip_ref:\n",
        "    zip_ref.extractall(\"data\")"
      ],
      "metadata": {
        "id": "9U1WSshHl_9f"
      },
      "execution_count": 15,
      "outputs": []
    },
    {
      "cell_type": "code",
      "source": [
        "!pip install tensorflow-io"
      ],
      "metadata": {
        "id": "-j_0FQBBkqdE"
      },
      "execution_count": null,
      "outputs": []
    },
    {
      "cell_type": "code",
      "execution_count": 16,
      "metadata": {
        "id": "3Ghe3wtmhIte"
      },
      "outputs": [],
      "source": [
        "\n",
        "import tensorflow as tf\n",
        "import tensorflow_io as tfio\n",
        "import matplotlib as plt\n",
        "import os\n",
        "\n",
        "capuchin_path = os.path.join('data', 'Parsed_Capuchinbird_Clips')\n",
        "not_capuchin_path = os.path.join('data', 'Parsed_Not_Capuchinbird_Clips')"
      ]
    },
    {
      "cell_type": "code",
      "execution_count": 6,
      "metadata": {
        "id": "hMLwwF-vhIth"
      },
      "outputs": [],
      "source": [
        "def load_16k_mono_audio(filename):\n",
        "    file_contents = tf.io.read_file(filename)\n",
        "    wav, sample = tf.audio.decode_wav(file_contents, desired_channels=1)\n",
        "    wav = tf.squeeze(wav, axis=-1)\n",
        "    sample = tf.cast(sample, tf.int64)\n",
        "    return tfio.audio.resample(wav, rate_in=sample, rate_out=16000)"
      ]
    },
    {
      "cell_type": "code",
      "source": [
        "load_16k_mono_audio(os.path.join(capuchin_path, os.listdir(capuchin_path)[0]))"
      ],
      "metadata": {
        "id": "poIvQjmBkHjo",
        "outputId": "d45e0a60-aef9-48c3-abca-8dbd8746d4c2",
        "colab": {
          "base_uri": "https://localhost:8080/"
        }
      },
      "execution_count": 17,
      "outputs": [
        {
          "output_type": "execute_result",
          "data": {
            "text/plain": [
              "<tf.Tensor: shape=(80000,), dtype=float32, numpy=\n",
              "array([-1.9102599e-07,  5.4285999e-07, -5.1341158e-07, ...,\n",
              "        4.7466299e-03,  2.0376272e-03, -1.0874035e-03], dtype=float32)>"
            ]
          },
          "metadata": {},
          "execution_count": 17
        }
      ]
    }
  ],
  "metadata": {
    "kernelspec": {
      "display_name": "Python 3",
      "name": "python3"
    },
    "language_info": {
      "codemirror_mode": {
        "name": "ipython",
        "version": 3
      },
      "file_extension": ".py",
      "mimetype": "text/x-python",
      "name": "python",
      "nbconvert_exporter": "python",
      "pygments_lexer": "ipython3",
      "version": "3.11.3"
    },
    "orig_nbformat": 4,
    "colab": {
      "provenance": [],
      "gpuType": "T4",
      "include_colab_link": true
    },
    "accelerator": "GPU"
  },
  "nbformat": 4,
  "nbformat_minor": 0
}